{
 "cells": [
  {
   "cell_type": "code",
   "execution_count": 117,
   "metadata": {
    "collapsed": false
   },
   "outputs": [],
   "source": [
    "import random\n",
    "import numpy\n",
    "from deap import algorithms, base, creator, tools\n",
    "from xy_interpolation import *"
   ]
  },
  {
   "cell_type": "code",
   "execution_count": 89,
   "metadata": {
    "collapsed": true
   },
   "outputs": [],
   "source": [
    "def evalOneMax(individual):\n",
    "    return numpy.sum(individual[0]),\n",
    "\n",
    "def evalTestFreq(individual):\n",
    "    try:\n",
    "        s = make_shape(individual.pts,max_output_len=50)\n",
    "    except ValueError:\n",
    "        return 1000 # self-intersecting. very bad.\n",
    "    fq, _, _ = find_eigenmodes(s, 5)\n",
    "    return fitness(individual[0],np.array([5,10,15,20])),\n",
    "\n",
    "def cxTwoPointCopy(ind1, ind2):\n",
    "    \"\"\"Execute a two points crossover with copy on the input individuals. The\n",
    "    copy is required because the slicing in numpy returns a view of the data,\n",
    "    which leads to a self overwritting in the swap operation. It prevents\n",
    "    ::\n",
    "    \n",
    "        >>> import numpy\n",
    "        >>> a = numpy.array((1,2,3,4))\n",
    "        >>> b = numpy.array((5.6.7.8))\n",
    "        >>> a[1:3], b[1:3] = b[1:3], a[1:3]\n",
    "        >>> print(a)\n",
    "        [1 6 7 4]\n",
    "        >>> print(b)\n",
    "        [5 6 7 8]\n",
    "    \"\"\"\n",
    "    size = len(ind1)\n",
    "    cxpoint1 = random.randint(1, size)\n",
    "    cxpoint2 = random.randint(1, size - 1)\n",
    "    if cxpoint2 >= cxpoint1:\n",
    "        cxpoint2 += 1\n",
    "    else: # Swap the two cx points\n",
    "        cxpoint1, cxpoint2 = cxpoint2, cxpoint1\n",
    "\n",
    "    ind1[cxpoint1:cxpoint2], ind2[cxpoint1:cxpoint2] \\\n",
    "        = ind2[cxpoint1:cxpoint2].copy(), ind1[cxpoint1:cxpoint2].copy()\n",
    "        \n",
    "    return ind1, ind2\n",
    "\n",
    "def checkIntersect(func): # TODO - come up with a way so that it just modifies the curve instead\n",
    "    \"\"\"\n",
    "    Makes sure that the new curve isn't self-intersecting.\n",
    "    If it is, it kills the individual by replacing it with a new random curve.\n",
    "    \"\"\"\n",
    "    def decorator(func):\n",
    "        print(func)\n",
    "        def wrapper(*args, **kargs):\n",
    "            offspring = func(*args, **kargs)\n",
    "            for child in offspring:\n",
    "                curve = interp(child.pts)\n",
    "                if curve_intersects(curve):\n",
    "                    _, child.pts = make_random_shape(len(child.pts[0]), scale = max(child.pts[0]))\n",
    "            return offspring\n",
    "        return wrapper\n",
    "    return decorator\n",
    "\n"
   ]
  },
  {
   "cell_type": "code",
   "execution_count": 118,
   "metadata": {
    "collapsed": false
   },
   "outputs": [],
   "source": [
    "creator.create(\"FitnessMin\", base.Fitness, weights=(-1.0,)) \n",
    "creator.create(\"Individual\", numpy.ndarray, fitness=creator.FitnessMin)\n",
    "\n",
    "# TODO - add the thickness as a gene\n",
    "toolbox = base.Toolbox()\n",
    "toolbox.register(\"pts\", lambda: make_random_shape(4)[1]) \n",
    "toolbox.register(\"individual\", tools.initIterate, creator.Individual, toolbox.pts)\n",
    "toolbox.register(\"population\", tools.initRepeat, list, toolbox.individual)\n",
    "\n",
    "\n",
    "toolbox.register(\"evaluate\", evalOneMax)\n",
    "toolbox.register(\"mate\", cxTwoPointCopy)\n",
    "# TODO - set a scale for sigma\n",
    "toolbox.register(\"mutate\", lambda i:tools.mutGaussian(i, mu=0.0, sigma=1.0, indpb=0.05))\n",
    "toolbox.register(\"select\", tools.selTournament, tournsize=3)\n",
    "\n",
    "# checking that the new curves don't intersect\n",
    "# TODO - make this match\n",
    "# toolbox.decorate(\"mate\", checkIntersect)\n",
    "# toolbox.decorate(\"mutate\", checkIntersect)\n",
    "\n",
    "def main():\n",
    "    random.seed(64)\n",
    "    \n",
    "    pop = toolbox.population(n=300)\n",
    "    \n",
    "    # Numpy equality function (operators.eq) between two arrays returns the\n",
    "    # equality element wise, which raises an exception in the if similar()\n",
    "    # check of the hall of fame. Using a different equality function like\n",
    "    # numpy.array_equal or numpy.allclose solve this issue.\n",
    "    hof = tools.HallOfFame(1, similar=numpy.array_equal)\n",
    "    \n",
    "    stats = tools.Statistics(lambda ind: ind.fitness.values)\n",
    "    stats.register(\"avg\", numpy.mean)\n",
    "    stats.register(\"std\", numpy.std)\n",
    "    stats.register(\"min\", numpy.min)\n",
    "    stats.register(\"max\", numpy.max)\n",
    "    \n",
    "    algorithms.eaSimple(pop, toolbox, cxpb=0.90, mutpb=0.2, ngen=30, stats=stats, halloffame=hof)\n",
    "\n",
    "    return pop, stats, hof\n"
   ]
  },
  {
   "cell_type": "code",
   "execution_count": 119,
   "metadata": {
    "collapsed": false
   },
   "outputs": [
    {
     "name": "stdout",
     "output_type": "stream",
     "text": [
      "gen\tnevals\tavg    \tstd     \tmin     \tmax    \n",
      "0  \t300   \t1.97041\t0.529057\t0.492647\t3.40661\n",
      "1  \t288   \t1.49155\t0.451856\t0.0632258\t4.52085\n",
      "2  \t274   \t1.14806\t0.525042\t0.0632258\t8.10957\n",
      "3  \t280   \t0.916219\t0.656451\t-0.116128\t8.39578\n",
      "4  \t270   \t0.605391\t0.738947\t-6.7911  \t8.61373\n",
      "5  \t281   \t0.224002\t0.862623\t-6.7911  \t2.88625\n",
      "6  \t275   \t-0.0297403\t0.994379\t-6.7911  \t7.13692\n",
      "7  \t272   \t-0.349861 \t1.28841 \t-8.55872 \t0.0632258\n",
      "8  \t276   \t-0.803651 \t1.75571 \t-8.55872 \t4.67307  \n",
      "9  \t266   \t-2.0484   \t2.21139 \t-8.55872 \t0.0632258\n",
      "10 \t285   \t-3.69129  \t2.32161 \t-8.55872 \t0.923104 \n",
      "11 \t285   \t-5.53694  \t2.20728 \t-10.9668 \t-0.116128\n",
      "12 \t277   \t-7.40571  \t1.62305 \t-10.9668 \t-3.29912 \n",
      "13 \t274   \t-8.5929   \t0.842241\t-10.9668 \t-6.7911  \n",
      "14 \t283   \t-9.08101  \t1.08118 \t-15.3106 \t-2.52246 \n",
      "15 \t283   \t-9.98886  \t1.1735  \t-15.3106 \t-8.55872 \n",
      "16 \t280   \t-10.8291  \t1.04315 \t-17.5782 \t-3.63239 \n",
      "17 \t280   \t-11.2835  \t1.29101 \t-17.5782 \t-5.38118 \n",
      "18 \t275   \t-12.0337  \t1.83296 \t-17.5782 \t-6.79959 \n",
      "19 \t271   \t-13.6401  \t2.17638 \t-17.5782 \t-10.9668 \n",
      "20 \t279   \t-15.3808  \t1.7076  \t-27.5868 \t-10.9668 \n",
      "21 \t264   \t-16.572   \t1.70821 \t-27.5868 \t-10.2563 \n",
      "22 \t284   \t-17.6266  \t2.00803 \t-27.5868 \t-12.4542 \n",
      "23 \t280   \t-18.3685  \t2.27928 \t-27.5868 \t-15.3106 \n",
      "24 \t277   \t-20.1862  \t3.60904 \t-27.5868 \t-17.5782 \n",
      "25 \t268   \t-23.1904  \t3.71952 \t-30.9765 \t-17.4083 \n",
      "26 \t273   \t-26.1308  \t2.64739 \t-30.9765 \t-16.8616 \n",
      "27 \t280   \t-27.665   \t0.904747\t-33.4975 \t-21.6235 \n",
      "28 \t271   \t-28.0792  \t1.19383 \t-33.4975 \t-27.5868 \n",
      "29 \t281   \t-28.8816  \t1.6574  \t-33.4975 \t-25.666  \n",
      "30 \t270   \t-30.3851  \t1.54453 \t-37.059  \t-27.5868 \n",
      "[Individual([[-9.36536422, -9.22444827, -9.15647846, -9.31273007],\n",
      "       [ 0.13160432,  0.84953279,  0.52099729,  0.0746867 ]])]\n"
     ]
    }
   ],
   "source": [
    "if __name__ == \"__main__\":\n",
    "    pop,stats,hof = main()\n",
    "    print hof"
   ]
  },
  {
   "cell_type": "code",
   "execution_count": null,
   "metadata": {
    "collapsed": true
   },
   "outputs": [],
   "source": []
  },
  {
   "cell_type": "code",
   "execution_count": null,
   "metadata": {
    "collapsed": true
   },
   "outputs": [],
   "source": []
  }
 ],
 "metadata": {
  "kernelspec": {
   "display_name": "Python 2",
   "language": "python",
   "name": "python2"
  },
  "language_info": {
   "codemirror_mode": {
    "name": "ipython",
    "version": 2
   },
   "file_extension": ".py",
   "mimetype": "text/x-python",
   "name": "python",
   "nbconvert_exporter": "python",
   "pygments_lexer": "ipython2",
   "version": "2.7.10"
  }
 },
 "nbformat": 4,
 "nbformat_minor": 0
}
