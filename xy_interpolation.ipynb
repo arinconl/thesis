{
 "cells": [
  {
   "cell_type": "code",
   "execution_count": 8,
   "metadata": {
    "collapsed": true
   },
   "outputs": [],
   "source": [
    "import numpy as np\n",
    "import matplotlib.pyplot as plt\n",
    "from scipy import interpolate\n",
    "from itertools import combinations"
   ]
  },
  {
   "cell_type": "code",
   "execution_count": 98,
   "metadata": {
    "collapsed": false
   },
   "outputs": [],
   "source": [
    "def randpoints(n, scale=1):\n",
    "    xp = np.random.random(n) * scale\n",
    "    xp = np.append(xp,xp[0]) # need duplicate points for periodic boundary\n",
    "    return xp\n",
    "\n",
    "def randthetas(n): # Not used at the moment\n",
    "    \"\"\" Ensures that we cover the whole range.\"\"\"\n",
    "    thetas = randpoints(n, scale=2*np.pi)\n",
    "    thetas[0] = 0\n",
    "    thetas[-1] = 2*np.pi\n",
    "    return thetas\n",
    "\n",
    "\n",
    "def halve(ls):\n",
    "    \"\"\" Splits a list of two sublists in half\"\"\"\n",
    "    ls1 = ls[0][len(ls[0])//2:] ,(ls[1][len(ls[1])//2:])\n",
    "    ls2 = ls[0][:len(ls[0])//2] ,(ls[1][:len(ls[1])//2])\n",
    "    return ls1,ls2\n",
    "\n",
    "def breakup(ls,order):\n",
    "    \"\"\"Breaks up ls into 2^order sublists\"\"\"\n",
    "    if order == 1: # base case\n",
    "        return halve(ls)\n",
    "    else:\n",
    "        ls1, ls2 = halve(ls)\n",
    "        return breakup(ls1,order-1) + breakup(ls2,order-1)\n",
    "\n",
    "def range_intersects(rng1,rng2):\n",
    "    \"\"\" rng = (xmin, xmax)\"\"\"\n",
    "    return (rng1[0] <= rng2[0] <= rng1[1] or \n",
    "            rng2[0] <= rng1[0] <= rng2[1] or\n",
    "            rng1[0] <= rng2[1] <= rng1[1] or\n",
    "            rng2[0] <= rng1[1] <= rng2[1])    \n",
    "    \n",
    "def box_intersects(box1,box2):\n",
    "    \"\"\" box = (xmin,xmax,ymin,ymax)\"\"\"\n",
    "    return (range_intersects((box1[0],box1[1]),(box2[0],box2[1])) and\n",
    "            range_intersects((box1[2],box1[3]),(box2[2],box2[3]))  )\n",
    "\n",
    "def curve_intersects_rec(c1,c2, thresh):\n",
    "    if len(c1[0]) <= thresh: # base case\n",
    "        return True\n",
    "    # construct bounding boxes\n",
    "    box1 = (np.min(c1[0]),np.max(c1[0]),np.min(c1[1]),np.max(c1[1]))\n",
    "    box2 = (np.min(c2[0]),np.max(c2[0]),np.min(c2[1]),np.max(c2[1]))\n",
    "    \n",
    "    if SHOW_STEPS:\n",
    "        plt.figure()\n",
    "        plt.axis((-1,2,-1,2))\n",
    "        plt.plot(c1[0],c1[1],c2[0],c2[1])\n",
    "        plt.title(str(box_intersects(box1,box2)) + ' size =' + str(len(c1[0])))\n",
    "        plt.show()\n",
    "    \n",
    "    if box_intersects(box1,box2): #split the curves in half, recurse\n",
    "        c1a, c1b = halve(c1)\n",
    "        c2a, c2b = halve(c2)\n",
    "        return (curve_intersects_rec(c1a,c2a,thresh) or \n",
    "                curve_intersects_rec(c1a,c2b,thresh) or\n",
    "                curve_intersects_rec(c1b,c2a,thresh) or\n",
    "                curve_intersects_rec(c1b,c2b,thresh) )\n",
    "    else:\n",
    "        return False\n",
    "\n",
    "def curve_intersects(c, thresh = 100):\n",
    "    \"\"\" Takes as input two curves c1 = [x,y]\n",
    "    Returns True if c1 and c2 intersect. \n",
    "    Works by recursing on bounding boxes.\n",
    "    Thanks to the lovely Pomax for the method.\"\"\"\n",
    "    assert len(c[0]) == len(c[1])\n",
    "    assert len(c[0]) > 10 # it'll give true by default if you start with a small list\n",
    "\n",
    "    # Hacky fix - some self-intersections get lost if you don't break it up enough\n",
    "    cs = breakup(c,3)\n",
    "    c_pairs = combinations(cs,r=2) # try each combination\n",
    "\n",
    "    if SHOW_FAILS:\n",
    "        plt.figure()\n",
    "        plt.axis((-0.5,1.5,-0.5,1.5))\n",
    "        for curve in cs:\n",
    "            plt.plot(curve[0],curve[1], thresh)\n",
    "        plt.show()\n",
    "    \n",
    "    for pair in c_pairs:\n",
    "        if curve_intersects_rec(pair[0],pair[1], thresh):\n",
    "            return True\n",
    "       \n",
    "    if SHOW_WINS:\n",
    "        plt.figure()\n",
    "        for curve in cs:\n",
    "            plt.plot(curve[0],curve[1])\n",
    "        plt.show()\n",
    "\n",
    "    return False\n",
    "\n",
    "def interp(points, n = 2000):\n",
    "    \"\"\"Takes as input list points = (x,y)\n",
    "    returns a list [xnew,ynew] of interpolated points of length n.\n",
    "    n is only matters for curve_intersects, n=2000 seems to work.\"\"\"\n",
    "    tck, u = interpolate.splprep(points, s=0, per=True)\n",
    "    unew = np.linspace(0,1,n)\n",
    "    xnew,ynew = interpolate.splev(unew, tck)\n",
    "    xnew = np.delete(xnew,0) # need to remove duplicate points\n",
    "    ynew = np.delete(ynew,0)\n",
    "    return xnew,ynew\n",
    "\n",
    "def make_random_shape(n_pts):\n",
    "    \"\"\" Interpolate a random shape out of n_pts starting points.\n",
    "    Starts to take way too long for n_pts > 8\n",
    "    \"\"\"\n",
    "    valid_shape = False\n",
    "    failcounter = 0\n",
    "    while not valid_shape:\n",
    "        points = randpoints(n_pts), randpoints(n_pts)\n",
    "        fit_pts = interp(points)\n",
    "        if curve_intersects(fit_pts):\n",
    "            failcounter += 1\n",
    "            continue\n",
    "        valid_shape = True\n",
    "#         print str(failcounter) + ' fails'\n",
    "        return fit_pts\n",
    "\n",
    "def make_shape(pts, output_len = 100):\n",
    "    \"\"\" \n",
    "    Args:\n",
    "        pts: a tuple of points (x,y) to be interpolated\n",
    "        output_len: the number of points in the interpolated curve\n",
    "\n",
    "    Returns:\n",
    "        tuple: the pair of interpolated points (xnew,ynew)\n",
    "    \n",
    "    Raises:\n",
    "        ValueError: pts defined a self-intersecting curve\n",
    "    \"\"\"\n",
    "    assert len(pts[0]) == len(pts[1])\n",
    "    fit_pts = interp(pts)\n",
    "    if curve_intersects(fit_pts):\n",
    "        raise ValueError(\"Curve is self-intersecting\")\n",
    "    sparse_pts = map(lambda ls:ls[::len(fit_pts[0])//output_len], fit_pts)\n",
    "    print(len(fit_pts[0])//output_len)\n",
    "    return sparse_pts"
   ]
  },
  {
   "cell_type": "code",
   "execution_count": 99,
   "metadata": {
    "collapsed": true
   },
   "outputs": [],
   "source": [
    "RAND_POINTS = 6\n",
    "SHOW_STEPS = False\n",
    "SHOW_WINS = True\n",
    "SHOW_FAILS = False\n",
    "VIEWS = 3\n"
   ]
  },
  {
   "cell_type": "code",
   "execution_count": 101,
   "metadata": {
    "collapsed": false,
    "scrolled": true
   },
   "outputs": [
    {
     "name": "stdout",
     "output_type": "stream",
     "text": [
      "(array([ 0.36176557,  0.36270635,  0.36365107, ...,  0.35896706,\n",
      "        0.35989593,  0.36082876]),)\n",
      "(array([ 0.30988839,  0.3094105 ,  0.30893566, ...,  0.31134101,\n",
      "        0.31085362,  0.31036942]),)\n",
      "(array([ 0.86931134,  0.8683936 ,  0.86747296, ...,  0.87204699,\n",
      "        0.87113805,  0.87022616]),)\n"
     ]
    }
   ],
   "source": [
    "if __name__ == \"__main__\":\n",
    "    views = 0\n",
    "    while views < VIEWS:\n",
    "        randcurve = make_random_shape(RAND_POINTS)\n",
    "        print randcurve[::100]\n",
    "        views+=1\n",
    "#     print(len(make_shape(([1,2,3,4,3,0],[2,4,3,1,1,0]) , output_len = 500 )[0]))"
   ]
  },
  {
   "cell_type": "code",
   "execution_count": null,
   "metadata": {
    "collapsed": false
   },
   "outputs": [],
   "source": []
  },
  {
   "cell_type": "code",
   "execution_count": null,
   "metadata": {
    "collapsed": true
   },
   "outputs": [],
   "source": []
  }
 ],
 "metadata": {
  "kernelspec": {
   "display_name": "Python 2",
   "language": "python",
   "name": "python2"
  },
  "language_info": {
   "codemirror_mode": {
    "name": "ipython",
    "version": 2
   },
   "file_extension": ".py",
   "mimetype": "text/x-python",
   "name": "python",
   "nbconvert_exporter": "python",
   "pygments_lexer": "ipython2",
   "version": "2.7.10"
  }
 },
 "nbformat": 4,
 "nbformat_minor": 0
}
