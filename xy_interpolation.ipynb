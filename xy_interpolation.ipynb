{
 "cells": [
  {
   "cell_type": "code",
   "execution_count": 10,
   "metadata": {
    "collapsed": true
   },
   "outputs": [],
   "source": [
    "RAND_POINTS = 6\n",
    "DEBUG = False"
   ]
  },
  {
   "cell_type": "code",
   "execution_count": 11,
   "metadata": {
    "collapsed": true
   },
   "outputs": [],
   "source": [
    "import numpy as np\n",
    "import matplotlib.pyplot as plt\n",
    "from scipy.special import binom\n",
    "from scipy import interpolate, integrate\n",
    "from itertools import combinations"
   ]
  },
  {
   "cell_type": "code",
   "execution_count": 12,
   "metadata": {
    "collapsed": false
   },
   "outputs": [],
   "source": [
    "def randpoints(n, scale=1):\n",
    "    xp = np.random.random(n) * scale\n",
    "    xp = np.append(xp,xp[0]) # need duplicate points for periodic boundary\n",
    "    return xp\n",
    "\n",
    "def randthetas(n): # Not used at the moment\n",
    "    \"\"\" Ensures that we cover the whole range.\"\"\"\n",
    "    thetas = randpoints(n, scale=2*np.pi)\n",
    "    thetas[0] = 0\n",
    "    thetas[-1] = 2*np.pi\n",
    "    return thetas\n",
    "\n",
    "\n",
    "def halve(ls):\n",
    "    \"\"\" Splits a list of two sublists in half\"\"\"\n",
    "    ls1 = ls[0][len(ls[0])//2:] ,(ls[1][len(ls[1])//2:])\n",
    "    ls2 = ls[0][:len(ls[0])//2] ,(ls[1][:len(ls[1])//2])\n",
    "    return ls1,ls2\n",
    "\n",
    "def breakup(ls,order):\n",
    "    \"\"\"Breaks up ls into 2^order sublists\"\"\"\n",
    "    if order == 1: # base case\n",
    "        return halve(ls)\n",
    "    else:\n",
    "        ls1, ls2 = halve(ls)\n",
    "        return breakup(ls1,order-1) + breakup(ls2,order-1)\n",
    "\n",
    "def range_intersects(rng1,rng2):\n",
    "    \"\"\" rng = (xmin, xmax)\"\"\"\n",
    "    return (rng1[0] <= rng2[0] <= rng1[1] or \n",
    "            rng2[0] <= rng1[0] <= rng2[1] or\n",
    "            rng1[0] <= rng2[1] <= rng1[1] or\n",
    "            rng2[0] <= rng1[1] <= rng2[1])    \n",
    "    \n",
    "def box_intersects(box1,box2):\n",
    "    \"\"\" box = (xmin,xmax,ymin,ymax)\"\"\"\n",
    "    return (range_intersects((box1[0],box1[1]),(box2[0],box2[1])) and\n",
    "            range_intersects((box1[2],box1[3]),(box2[2],box2[3]))  )\n",
    "\n",
    "def curve_intersects_rec(c1,c2):\n",
    "    \"\"\" Takes as input two curves c1 = [x,y]\n",
    "    Returns True if c1 and c2 intersect. \n",
    "    Works by recursing on bounding boxes\"\"\"\n",
    "    if len(c1[0]) <= 5: # base case - should small enough to say there's an intersection there\n",
    "        return True\n",
    "    # construct bounding boxes (xmin,xmax,ymin,ymax)\n",
    "    box1 = (np.min(c1[0]),np.max(c1[0]),np.min(c1[1]),np.max(c1[1]))\n",
    "    box2 = (np.min(c2[0]),np.max(c2[0]),np.min(c2[1]),np.max(c2[1]))\n",
    "    \n",
    "    if DEBUG:\n",
    "        plt.figure()\n",
    "        plt.axis((-1,2,-1,2))\n",
    "        plt.plot(c1[0],c1[1],c2[0],c2[1])\n",
    "        plt.title(str(box_intersects(box1,box2)) + ' size =' + str(len(c1[0])))\n",
    "        plt.show()\n",
    "    \n",
    "    if box_intersects(box1,box2): #split the curves in half, recurse\n",
    "        c1a, c1b = halve(c1)\n",
    "        c2a, c2b = halve(c2)\n",
    "        return (curve_intersects_rec(c1a,c2a) or \n",
    "                curve_intersects_rec(c1a,c2b) or\n",
    "                curve_intersects_rec(c1b,c2a) or\n",
    "                curve_intersects_rec(c1b,c2b) )\n",
    "    else:\n",
    "        return False\n",
    "\n",
    "def curve_intersects(c):\n",
    "    assert len(c[0]) == len(c[1])\n",
    "    assert len(c[0]) > 10 # it'll give true by default if you start with a small list\n",
    "\n",
    "    # VERY Hacky fix - some self-intersections get lost if you don't break it up enough\n",
    "    cs = breakup(c,5)\n",
    "    c_pairs = combinations(cs,r=2) # try each combination\n",
    "    for pair in c_pairs:\n",
    "        if curve_intersects_rec(pair[0],pair[1]):\n",
    "            return True\n",
    "    return False\n",
    "    \n",
    "    plt.figure()\n",
    "    plt.axis((-0.5,1.5,-0.5,1.5))\n",
    "    plt.plot(c1[0],c1[1],c2[0],c2[1],c3[0],c3[1],c4[0],c4[1])\n",
    "    plt.show()"
   ]
  },
  {
   "cell_type": "code",
   "execution_count": 13,
   "metadata": {
    "collapsed": false,
    "scrolled": true
   },
   "outputs": [
    {
     "name": "stdout",
     "output_type": "stream",
     "text": [
      "fail\n"
     ]
    }
   ],
   "source": [
    "if __name__ == \"__main__\":\n",
    "    valid_shape = False\n",
    "    while not valid_shape:\n",
    "        x,y = randpoints(RAND_POINTS), randpoints(RAND_POINTS)\n",
    "        tck, u = interpolate.splprep([x, y], s=0, per=True)\n",
    "        unew = np.linspace(0,1,1000)\n",
    "        xnew,ynew = interpolate.splev(unew, tck)\n",
    "        xnew = np.delete(xnew,0) # need to remove duplicate points\n",
    "        ynew = np.delete(ynew,0)\n",
    "        if curve_intersects((xnew,ynew)):\n",
    "            print('fail')\n",
    "            continue\n",
    "        valid_shape = True\n",
    "        plt.figure()\n",
    "        plt.plot(x, y, 'x', xnew, ynew, 'b')\n",
    "        plt.legend(['points', 'Cubic Spline'])\n",
    "        plt.title('Spline of parametrically-defined curve')\n",
    "        plt.show()"
   ]
  },
  {
   "cell_type": "code",
   "execution_count": null,
   "metadata": {
    "collapsed": true
   },
   "outputs": [],
   "source": []
  },
  {
   "cell_type": "code",
   "execution_count": null,
   "metadata": {
    "collapsed": true
   },
   "outputs": [],
   "source": []
  }
 ],
 "metadata": {
  "kernelspec": {
   "display_name": "Python 2",
   "language": "python",
   "name": "python2"
  },
  "language_info": {
   "codemirror_mode": {
    "name": "ipython",
    "version": 2
   },
   "file_extension": ".py",
   "mimetype": "text/x-python",
   "name": "python",
   "nbconvert_exporter": "python",
   "pygments_lexer": "ipython2",
   "version": "2.7.10"
  }
 },
 "nbformat": 4,
 "nbformat_minor": 0
}
